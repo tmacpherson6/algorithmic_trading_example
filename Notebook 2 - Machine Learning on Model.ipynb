{
 "cells": [
  {
   "cell_type": "markdown",
   "metadata": {},
   "source": [
    "# Notebook 2 - Machine Learning\n",
    "## Opening Range Algorithmic Trading Example\n",
    "### Version 0.1.6\n",
    "#### 06/25/2025\n",
    "_____________________________________________________________________________________________________________________________________________________________________\n"
   ]
  },
  {
   "cell_type": "markdown",
   "metadata": {},
   "source": [
    "# Strategy Summary (RECAP)\n",
    "This is an entry level trading strategy based on an opening range breakout. This trading algorithm is not designed to generate alpha. It is designed to demonstarte my skillset in software engineering, backesting, machine learning and financial analysis. This strategy measures the 5' high and low and if the price breaks the high, we take it for a price target, if the price breaks the low we take it for a price target. \n",
    "\n",
    "If the first trade fails, we give it a second chance if it retriggers. The risk is the opposite high/low of the operning range bar. From our previous notebook, we have found that the mini NASDAQ futures contract (MNQ) is the most profitable, albeit quite volatile. We will use that contract for our machine learning to see if we can pull out any additional performance of our model. "
   ]
  },
  {
   "cell_type": "markdown",
   "metadata": {},
   "source": [
    "# Machine Learning\n",
    "\n",
    "Now that we have a good sample of trades from our strategy, we can start looking for hints as to whether we can predict if the trade will work or not before we actually take the trade. Currently, we are looking at a win percentage of approximately 40% with a 2:1 reward to risk ratio. That has resulted in substantial profits. At the time of writing this section, it was $10,500 in 466 trades (188 wins) to be exact. That means that we are making approximately $56 per trade. If we can improve our batting average even slightly, our profits could see dramatic growth.\n",
    "\n",
    "Let's take an example, if we risk $150 on average and we take 100 trades with a batting average of 40% we would make $3,000. If we improve the batting average by just 5 out of 100 trades, we would make $5,250. That's an incredible improvement in profits. If we can get up to 50% thats more than double the profifts, $7,500 in profit in 100 trades.\n",
    "\n",
    "So how can we go about doing that. We need to start by finding features that may help us predict the price movement before it happens. We will then need to transform the data depending on the models that we use. We will then decide on which model best suits our data and tune the parameters to get the best possible predictive ability we can. We will compare this to a dummyClassifier that classifies at random to see whether we get any improvement. We will continue to add remove features and train the model as we get more data and insights. So, let's get started\n",
    "\n",
    "## Design\n",
    "### Feature Engineering\n",
    "#### Target Label\n",
    "- ✅ Our target label will be Win as the positive class (1) and a loss as the negative class (0)\n",
    "- Multi-class: 2R 3R 1R profit targets etc.\n",
    "- Early Exit Classifier to run while in a position\n",
    "#### Features\n",
    "Quantitative Continuous:  \n",
    "- ✅ Volume of the 5 min bar \n",
    "- ✅ Normalized volume (20 period moving average of 5 min bars) \n",
    "- ✅ Size of bar (absolute dollar value)  \n",
    "- ✅ Size of bar Normalized (% of asset opening price)\n",
    "- ✅ % Gap from previous close\n",
    "- ✅ Size of Bottoming tail (normlaized)  \n",
    "- ✅ Size of Topping tail (normalized)\n",
    "- ✅ Distance from yesterdays AVWAP\n",
    "- ✅ 90 period 5'Simple Moving Average\n",
    "- ✅ 90 period 5'Simple Moving Average Slope\n",
    "- Moving average increasing/decreasing/neutral (measuresd by difference between most recent bars)\n",
    "- VWAP increasing/decreasing/neutral (measured by difference between most recent bars)  \n",
    "\n",
    "Categorical Binary:  \n",
    "- ✅ SHORT/LONG (Binary) (wont know this at time of decision so will have to test both before entrering trade)\n",
    "- ✅ Gap Up/Gap Down (gap % is a better feature)  \n",
    "- ✅ Inside Day Body (Binary)\n",
    "- ✅ Inside Day Wicks (Binary)  \n",
    "\n",
    "Multi-Class Categorical (One Hot Encoding):    \n",
    "- ✅ Day of the Week\n",
    "\n",
    "Other Indicators?  \n",
    "- RSI?  \n",
    "- MACD?  \n",
    "\n",
    "### Model Classifers  \n",
    "- kNN Classifier  \n",
    "- Logisitc Regression (lasso or Ridge)\n",
    "- Decision Tree (Feature Selection)\n",
    "- Random Forest\n",
    "- Gardient Boosted Descision Tree\n",
    "\n",
    "### Model Evaluation Metrics\n",
    "- Precision (limit False Positives because they cost money) *GridSearch Evaluation Metric\n",
    "- Confusion Matrix\n",
    "- F1 Score\n",
    "- Precision Recall Curve\n",
    "- ROC Curve AUC score"
   ]
  },
  {
   "cell_type": "markdown",
   "metadata": {},
   "source": [
    "## Section 1: Importing Libraries\n",
    "It is important to note that this notebook uses a private internal library 'River Rose'. Code is not provided publicly for compliance and security reasons."
   ]
  },
  {
   "cell_type": "markdown",
   "metadata": {},
   "source": [
    "### Importing Libraries"
   ]
  },
  {
   "cell_type": "code",
   "execution_count": 70,
   "metadata": {},
   "outputs": [],
   "source": [
    "#import our libraries\n",
    "import numpy as np\n",
    "import pandas as pd\n",
    "import RiverRose as rr\n",
    "import RiverRose.technical_analysis as rrt\n",
    "import RiverRose.kpi as rrk\n",
    "import RiverRose.graphing as rrg\n",
    "import sqlalchemy as pg\n",
    "import matplotlib.pyplot as plt\n",
    "\n",
    "#Import all of our SciKit-Learn \n",
    "from sklearn.preprocessing import MinMaxScaler, StandardScaler\n",
    "from sklearn.model_selection import train_test_split, KFold, cross_val_score, GridSearchCV\n",
    "from sklearn.dummy import DummyClassifier\n",
    "from sklearn.linear_model import LogisticRegression\n",
    "from sklearn.tree import DecisionTreeClassifier\n",
    "from sklearn.neighbors import KNeighborsClassifier\n",
    "from sklearn.discriminant_analysis import LinearDiscriminantAnalysis\n",
    "from sklearn.naive_bayes import GaussianNB\n",
    "from sklearn.svm import SVC \n",
    "from sklearn.neural_network import MLPClassifier\n",
    "from sklearn.pipeline import Pipeline\n",
    "from sklearn.ensemble import AdaBoostClassifier, GradientBoostingClassifier, RandomForestClassifier, ExtraTreesClassifier\n",
    "from sklearn.metrics import classification_report, confusion_matrix, ConfusionMatrixDisplay, make_scorer, precision_score, recall_score, accuracy_score, roc_auc_score\n",
    "\n",
    "#Import our packages for Deep Learning\n",
    "#from keras.models import Sequential  \n",
    "#from keras.layers import Dense  \n",
    "#from keras.wrappers.scikit_learn import KerasClassifier\n",
    "\n",
    "#import packages for saving and loading the model\n",
    "#from pickle import dump \n",
    "#from pickle import load"
   ]
  },
  {
   "cell_type": "markdown",
   "metadata": {},
   "source": [
    "## Section 2: Load Trading Dataframe\n",
    "Let's start by bringing in all of the trading data that we obtained in 'Notebook 1 - Backtesting Opening Range Strategy.ipynb'."
   ]
  },
  {
   "cell_type": "code",
   "execution_count": 71,
   "metadata": {},
   "outputs": [
    {
     "name": "stdout",
     "output_type": "stream",
     "text": [
      "We have a dataframe of 360 trades with 20 features for supervised machine learning\n",
      "\n",
      "<class 'pandas.core.frame.DataFrame'>\n",
      "RangeIndex: 360 entries, 0 to 359\n",
      "Data columns (total 20 columns):\n",
      " #   Column             Non-Null Count  Dtype  \n",
      "---  ------             --------------  -----  \n",
      " 0   Unnamed: 0         360 non-null    int64  \n",
      " 1   timestamp          360 non-null    object \n",
      " 2   date               360 non-null    object \n",
      " 3   time               360 non-null    object \n",
      " 4   target_label       360 non-null    int64  \n",
      " 5   day                360 non-null    object \n",
      " 6   transaction        360 non-null    float64\n",
      " 7   volume_5min        360 non-null    float64\n",
      " 8   volume_norm        360 non-null    float64\n",
      " 9   barsize_5min       360 non-null    float64\n",
      " 10  barsize_5min_norm  360 non-null    float64\n",
      " 11  topping_tail       360 non-null    float64\n",
      " 12  bottoming_tail     360 non-null    float64\n",
      " 13  inside_wicks       360 non-null    float64\n",
      " 14  inside_body        360 non-null    float64\n",
      " 15  sma_90_norm        360 non-null    float64\n",
      " 16  sma_90_slope       360 non-null    float64\n",
      " 17  avwap_2day         360 non-null    float64\n",
      " 18  gap                360 non-null    float64\n",
      " 19  gap_up             360 non-null    int64  \n",
      "dtypes: float64(13), int64(3), object(4)\n",
      "memory usage: 56.4+ KB\n"
     ]
    }
   ],
   "source": [
    "ml_df = pd.read_csv('mnq_backtesting_data.csv')\n",
    "print(f\"We have a dataframe of {ml_df.shape[0]} trades with {ml_df.shape[1]} features for supervised machine learning\\n\")\n",
    "ml_df.info()"
   ]
  },
  {
   "cell_type": "markdown",
   "metadata": {},
   "source": [
    "We now have a feature set of 10-15 normalized features that I think will do a pretty good job of giving characteristics to the trade. It's hard to tell if they will have any predictive power but there is only one way to find out. Now that we have our feature dataframe, there is just a little more that we need to do. We need to OneHotEncode the 'day' column. Because we are already working in pandas, let's just use the get dummies method. Everything else should be pretty staright forward as either continuous quantitative or binary categorical."
   ]
  },
  {
   "cell_type": "code",
   "execution_count": 72,
   "metadata": {},
   "outputs": [
    {
     "data": {
      "text/html": [
       "<div>\n",
       "<style scoped>\n",
       "    .dataframe tbody tr th:only-of-type {\n",
       "        vertical-align: middle;\n",
       "    }\n",
       "\n",
       "    .dataframe tbody tr th {\n",
       "        vertical-align: top;\n",
       "    }\n",
       "\n",
       "    .dataframe thead th {\n",
       "        text-align: right;\n",
       "    }\n",
       "</style>\n",
       "<table border=\"1\" class=\"dataframe\">\n",
       "  <thead>\n",
       "    <tr style=\"text-align: right;\">\n",
       "      <th></th>\n",
       "      <th>timestamp</th>\n",
       "      <th>date</th>\n",
       "      <th>time</th>\n",
       "      <th>target_label</th>\n",
       "      <th>transaction</th>\n",
       "      <th>volume_5min</th>\n",
       "      <th>volume_norm</th>\n",
       "      <th>barsize_5min</th>\n",
       "      <th>barsize_5min_norm</th>\n",
       "      <th>topping_tail</th>\n",
       "      <th>...</th>\n",
       "      <th>sma_90_norm</th>\n",
       "      <th>sma_90_slope</th>\n",
       "      <th>avwap_2day</th>\n",
       "      <th>gap</th>\n",
       "      <th>gap_up</th>\n",
       "      <th>day_Friday</th>\n",
       "      <th>day_Monday</th>\n",
       "      <th>day_Thursday</th>\n",
       "      <th>day_Tuesday</th>\n",
       "      <th>day_Wednesday</th>\n",
       "    </tr>\n",
       "  </thead>\n",
       "  <tbody>\n",
       "    <tr>\n",
       "      <th>0</th>\n",
       "      <td>2023-12-13 07:35:00</td>\n",
       "      <td>2023-12-13</td>\n",
       "      <td>07:35:00</td>\n",
       "      <td>0</td>\n",
       "      <td>1.0</td>\n",
       "      <td>29617.0</td>\n",
       "      <td>0.870826</td>\n",
       "      <td>40.00</td>\n",
       "      <td>0.23</td>\n",
       "      <td>0.0072</td>\n",
       "      <td>...</td>\n",
       "      <td>1.0132</td>\n",
       "      <td>0.0228</td>\n",
       "      <td>0.0450</td>\n",
       "      <td>1.01</td>\n",
       "      <td>1</td>\n",
       "      <td>0</td>\n",
       "      <td>0</td>\n",
       "      <td>0</td>\n",
       "      <td>0</td>\n",
       "      <td>1</td>\n",
       "    </tr>\n",
       "    <tr>\n",
       "      <th>1</th>\n",
       "      <td>2023-12-14 07:40:00</td>\n",
       "      <td>2023-12-14</td>\n",
       "      <td>07:40:00</td>\n",
       "      <td>0</td>\n",
       "      <td>1.0</td>\n",
       "      <td>29997.0</td>\n",
       "      <td>0.882998</td>\n",
       "      <td>47.75</td>\n",
       "      <td>0.27</td>\n",
       "      <td>0.0686</td>\n",
       "      <td>...</td>\n",
       "      <td>1.0118</td>\n",
       "      <td>0.0280</td>\n",
       "      <td>0.1056</td>\n",
       "      <td>0.24</td>\n",
       "      <td>1</td>\n",
       "      <td>0</td>\n",
       "      <td>0</td>\n",
       "      <td>1</td>\n",
       "      <td>0</td>\n",
       "      <td>0</td>\n",
       "    </tr>\n",
       "    <tr>\n",
       "      <th>2</th>\n",
       "      <td>2023-12-15 07:35:00</td>\n",
       "      <td>2023-12-15</td>\n",
       "      <td>07:35:00</td>\n",
       "      <td>0</td>\n",
       "      <td>1.0</td>\n",
       "      <td>32782.0</td>\n",
       "      <td>0.980852</td>\n",
       "      <td>39.75</td>\n",
       "      <td>0.23</td>\n",
       "      <td>0.1518</td>\n",
       "      <td>...</td>\n",
       "      <td>1.0018</td>\n",
       "      <td>-0.0007</td>\n",
       "      <td>0.1322</td>\n",
       "      <td>0.19</td>\n",
       "      <td>1</td>\n",
       "      <td>1</td>\n",
       "      <td>0</td>\n",
       "      <td>0</td>\n",
       "      <td>0</td>\n",
       "      <td>0</td>\n",
       "    </tr>\n",
       "    <tr>\n",
       "      <th>3</th>\n",
       "      <td>2023-12-18 07:35:00</td>\n",
       "      <td>2023-12-18</td>\n",
       "      <td>07:35:00</td>\n",
       "      <td>1</td>\n",
       "      <td>1.0</td>\n",
       "      <td>31228.0</td>\n",
       "      <td>0.930532</td>\n",
       "      <td>41.00</td>\n",
       "      <td>0.23</td>\n",
       "      <td>0.0400</td>\n",
       "      <td>...</td>\n",
       "      <td>1.0015</td>\n",
       "      <td>0.0088</td>\n",
       "      <td>0.0112</td>\n",
       "      <td>0.16</td>\n",
       "      <td>1</td>\n",
       "      <td>0</td>\n",
       "      <td>1</td>\n",
       "      <td>0</td>\n",
       "      <td>0</td>\n",
       "      <td>0</td>\n",
       "    </tr>\n",
       "    <tr>\n",
       "      <th>4</th>\n",
       "      <td>2023-12-19 07:40:00</td>\n",
       "      <td>2023-12-19</td>\n",
       "      <td>07:40:00</td>\n",
       "      <td>1</td>\n",
       "      <td>1.0</td>\n",
       "      <td>32376.0</td>\n",
       "      <td>0.964989</td>\n",
       "      <td>44.75</td>\n",
       "      <td>0.25</td>\n",
       "      <td>0.0766</td>\n",
       "      <td>...</td>\n",
       "      <td>1.0023</td>\n",
       "      <td>0.0099</td>\n",
       "      <td>0.0865</td>\n",
       "      <td>0.09</td>\n",
       "      <td>1</td>\n",
       "      <td>0</td>\n",
       "      <td>0</td>\n",
       "      <td>0</td>\n",
       "      <td>1</td>\n",
       "      <td>0</td>\n",
       "    </tr>\n",
       "  </tbody>\n",
       "</table>\n",
       "<p>5 rows × 23 columns</p>\n",
       "</div>"
      ],
      "text/plain": [
       "             timestamp        date      time  target_label  transaction  \\\n",
       "0  2023-12-13 07:35:00  2023-12-13  07:35:00             0          1.0   \n",
       "1  2023-12-14 07:40:00  2023-12-14  07:40:00             0          1.0   \n",
       "2  2023-12-15 07:35:00  2023-12-15  07:35:00             0          1.0   \n",
       "3  2023-12-18 07:35:00  2023-12-18  07:35:00             1          1.0   \n",
       "4  2023-12-19 07:40:00  2023-12-19  07:40:00             1          1.0   \n",
       "\n",
       "   volume_5min  volume_norm  barsize_5min  barsize_5min_norm  topping_tail  \\\n",
       "0      29617.0     0.870826         40.00               0.23        0.0072   \n",
       "1      29997.0     0.882998         47.75               0.27        0.0686   \n",
       "2      32782.0     0.980852         39.75               0.23        0.1518   \n",
       "3      31228.0     0.930532         41.00               0.23        0.0400   \n",
       "4      32376.0     0.964989         44.75               0.25        0.0766   \n",
       "\n",
       "   ...  sma_90_norm  sma_90_slope  avwap_2day   gap  gap_up  day_Friday  \\\n",
       "0  ...       1.0132        0.0228      0.0450  1.01       1           0   \n",
       "1  ...       1.0118        0.0280      0.1056  0.24       1           0   \n",
       "2  ...       1.0018       -0.0007      0.1322  0.19       1           1   \n",
       "3  ...       1.0015        0.0088      0.0112  0.16       1           0   \n",
       "4  ...       1.0023        0.0099      0.0865  0.09       1           0   \n",
       "\n",
       "   day_Monday  day_Thursday  day_Tuesday  day_Wednesday  \n",
       "0           0             0            0              1  \n",
       "1           0             1            0              0  \n",
       "2           0             0            0              0  \n",
       "3           1             0            0              0  \n",
       "4           0             0            1              0  \n",
       "\n",
       "[5 rows x 23 columns]"
      ]
     },
     "execution_count": 72,
     "metadata": {},
     "output_type": "execute_result"
    }
   ],
   "source": [
    "ml_df = pd.get_dummies(ml_df, columns=['day'],dtype=int)\n",
    "ml_df.drop(columns=['Unnamed: 0'],inplace=True)\n",
    "ml_df.head()"
   ]
  },
  {
   "cell_type": "markdown",
   "metadata": {},
   "source": [
    "## Section 3: Base Supervised Learning Model Performance\n",
    "It is important that we don't have any data leakage in this step of the process, we will use the industry standard of train, validate, test. So we will begin by splitting the data into a train/test set and move the test set aside until final model evaluation. Within the training set, we will use cross validation in order to get the best genearlization of the model that we can. Because our batting average is not equal (about 35-40% for positive class) we will stratify the split so that we can accurately predict the test case."
   ]
  },
  {
   "cell_type": "markdown",
   "metadata": {},
   "source": [
    "Let's create a box for the dynamic variables in our model selection and testing. This will allow us to easily manipulate these variables one time to adjust all of the following outputs."
   ]
  },
  {
   "cell_type": "markdown",
   "metadata": {},
   "source": [
    "## Section 4: Dynamic Machine Learning Variables"
   ]
  },
  {
   "cell_type": "code",
   "execution_count": 73,
   "metadata": {},
   "outputs": [],
   "source": [
    "#Seperate Buy/Sell Side? (Buy, Sell, None)\n",
    "buy_sell_side = 'None'\n",
    "\n",
    "#Train-Test-Split Size and random_state\n",
    "validation_size = 0.20\n",
    "split_seed = 6\n",
    "#Data Scalar ('None', 'Standard', 'MinMax')\n",
    "scaler_type = 'MinMax'\n",
    "scaler_list = ['volume_5min','volume_norm','barsize_5min','barsize_5min_norm','topping_tail','bottoming_tail','sma_90_norm','sma_90_slope',\n",
    "               'avwap_2day','gap']\n",
    "\n",
    "#Model Random_State\n",
    "model_seed = 6\n",
    "\n",
    "#Cross Validation Folds\n",
    "folds = 5\n",
    "\n",
    "#Evaluation metric (recall, precision, accuracy, roc_auc)\n",
    "scoring = 'recall'"
   ]
  },
  {
   "cell_type": "markdown",
   "metadata": {},
   "source": [
    "One of the first things we need to do is to assess the balance in our target_label class. If the samples are significantly unbalanced we will need to either under or oversample in order to balance the dataset. Let's take a look at the balance of our binary dependent variable."
   ]
  },
  {
   "cell_type": "code",
   "execution_count": 74,
   "metadata": {},
   "outputs": [
    {
     "name": "stdout",
     "output_type": "stream",
     "text": [
      "target_label\n",
      "Stopped    215\n",
      "Profit     145\n",
      "Name: count, dtype: int64\n",
      "\n",
      "we had 40.28% success rate\n"
     ]
    }
   ],
   "source": [
    "class_names = {0:'Stopped',1:'Profit'}\n",
    "counts = ml_df['target_label'].value_counts().rename(index = class_names)\n",
    "print(counts)\n",
    "print(f\"\\nwe had {counts.iloc[1]/counts.sum():.2%} success rate\")\n"
   ]
  },
  {
   "cell_type": "markdown",
   "metadata": {},
   "source": [
    "In our current version of the notebook, we have 185 samples in the negative class and 134 samples in the positive class. This isn't terribly unbalanced (42%/58%) however, we can probably still benefit from addressing the imbalances in the group. We can either undersample the negative class (reducing our sample size) or we can oversample our positive class (repeating measures).\n",
    "\n",
    "### Undersampling\n",
    "This can be faster training if we have a large dateset and it will balance the model but we will be discarding potentially useful data. We can use ranom undersampling or NearMiss which selects majority samples that are closest to the minority class\n",
    "\n",
    "### Oversampling\n",
    "Here we duplicate or synthetically generate positive samples. This will preserve all of the data but it risks overfitting if we are duplicating the data. We can use random oversampling or SMOTE (synthetic Minority over sampling technique) which generates synthetic samples based on feature space similarities."
   ]
  },
  {
   "cell_type": "code",
   "execution_count": 75,
   "metadata": {},
   "outputs": [],
   "source": [
    "#from imblearn.under_sampling import RandomUnderSampler, NearMiss\n",
    "from imblearn.over_sampling import RandomOverSampler, SMOTE\n",
    "\n",
    "#rand_us = RandomUnderSampler(random_state = split_seed)\n",
    "#X_resampled, y_resampled = rand_us.fit_resample(X,y)\n",
    "\n",
    "#nm_us = NearMiss()\n",
    "#X_rasampled, y_resampled = nm_us.fit_resample(X,y)\n",
    "\n",
    "#rand_os = RandomOverSampler(random_state=split_seed)\n",
    "#X_resampled, y_resampled = rand_os.fit_resample(X,y)\n",
    "\n",
    "#smote = SMOTE(random_state = split_seed)\n",
    "#X_resampled, y_resampled = smote.fit_resample(X,y)"
   ]
  },
  {
   "cell_type": "markdown",
   "metadata": {},
   "source": [
    "However, in our case, and with our relatively balanced group, we can likely just set the class_weight parameters in our linear classifiers to 'balanced' using the scikit - learn package. So we will do that for now and if things change we can try SMOTE in order to keep our sample size large enough.\n",
    "\n",
    "Let's start by splitting our data into training and testing dataframes so that we have an untainted testing group to assess model performance."
   ]
  },
  {
   "cell_type": "code",
   "execution_count": 76,
   "metadata": {},
   "outputs": [
    {
     "name": "stdout",
     "output_type": "stream",
     "text": [
      "Training Set Length: 288; Test Set Length: 72\n"
     ]
    }
   ],
   "source": [
    "#Let's filter the data down to only buy side transactions\n",
    "if buy_sell_side.lower() == 'buy':\n",
    "    buy_df = ml_df[ml_df['transaction']==1.0]\n",
    "    n = 5\n",
    "elif buy_sell_side.lower() == 'sell':\n",
    "    buy_df = ml_df[ml_df['transaction']==0.0]\n",
    "    n = 5\n",
    "else:\n",
    "    buy_df = ml_df\n",
    "    n = 4\n",
    "\n",
    "#Let's create our feature dataframe and our target label Series\n",
    "X = buy_df.iloc[:,n:]\n",
    "y = buy_df.iloc[:,3]\n",
    "\n",
    "#Let's split our Training and Test set. We will not touch the test set until our model is trained and validated\n",
    "X_train,X_test,y_train,y_test = train_test_split(X,y, test_size = validation_size, random_state=split_seed, stratify = y)\n",
    "print(f\"Training Set Length: {len(X_train)}; Test Set Length: {len(X_test)}\")"
   ]
  },
  {
   "cell_type": "markdown",
   "metadata": {},
   "source": [
    "The first thing that we need to do is build a dummy classifier that we can compare against. We will build a few dummy classifiers as they are easy. One the predicts the majority, one that is stratified. This will be our baseline comparison. Let's put these values into a dataframe so we can compare them later."
   ]
  },
  {
   "cell_type": "code",
   "execution_count": 77,
   "metadata": {},
   "outputs": [
    {
     "name": "stdout",
     "output_type": "stream",
     "text": [
      "Majority Class Dummy: \n",
      "\n",
      "Accuracy: 0.597 \n",
      "Precision: 0.0 \n",
      "Recall: 0.0\n",
      "ROCAUC: 0.5\n",
      "\n",
      "Confusion Matix: \n",
      "[[43  0]\n",
      " [29  0]]\n"
     ]
    },
    {
     "name": "stderr",
     "output_type": "stream",
     "text": [
      "c:\\Users\\tmacp\\anaconda3\\envs\\QuantFinance\\Lib\\site-packages\\sklearn\\metrics\\_classification.py:1565: UndefinedMetricWarning: Precision is ill-defined and being set to 0.0 due to no predicted samples. Use `zero_division` parameter to control this behavior.\n",
      "  _warn_prf(average, modifier, f\"{metric.capitalize()} is\", len(result))\n",
      "c:\\Users\\tmacp\\anaconda3\\envs\\QuantFinance\\Lib\\site-packages\\sklearn\\metrics\\_classification.py:1565: UndefinedMetricWarning: Precision is ill-defined and being set to 0.0 due to no predicted samples. Use `zero_division` parameter to control this behavior.\n",
      "  _warn_prf(average, modifier, f\"{metric.capitalize()} is\", len(result))\n"
     ]
    },
    {
     "data": {
      "text/html": [
       "<div>\n",
       "<style scoped>\n",
       "    .dataframe tbody tr th:only-of-type {\n",
       "        vertical-align: middle;\n",
       "    }\n",
       "\n",
       "    .dataframe tbody tr th {\n",
       "        vertical-align: top;\n",
       "    }\n",
       "\n",
       "    .dataframe thead th {\n",
       "        text-align: right;\n",
       "    }\n",
       "</style>\n",
       "<table border=\"1\" class=\"dataframe\">\n",
       "  <thead>\n",
       "    <tr style=\"text-align: right;\">\n",
       "      <th></th>\n",
       "      <th>Model</th>\n",
       "      <th>Accuracy</th>\n",
       "      <th>Precision</th>\n",
       "      <th>Recall</th>\n",
       "      <th>ROCAUC</th>\n",
       "    </tr>\n",
       "  </thead>\n",
       "  <tbody>\n",
       "    <tr>\n",
       "      <th>0</th>\n",
       "      <td>Dummy Majority</td>\n",
       "      <td>0.597</td>\n",
       "      <td>0.0</td>\n",
       "      <td>0.0</td>\n",
       "      <td>0.5</td>\n",
       "    </tr>\n",
       "  </tbody>\n",
       "</table>\n",
       "</div>"
      ],
      "text/plain": [
       "            Model  Accuracy  Precision  Recall  ROCAUC\n",
       "0  Dummy Majority     0.597        0.0     0.0     0.5"
      ]
     },
     "execution_count": 77,
     "metadata": {},
     "output_type": "execute_result"
    }
   ],
   "source": [
    "dummy_majority = DummyClassifier(strategy = 'most_frequent',random_state=model_seed).fit(X_train,y_train)\n",
    "y_predict = dummy_majority.predict(X_test)\n",
    "print(f\"Majority Class Dummy: \\n\\nAccuracy: {np.round(dummy_majority.score(X_test,y_test),3)} \\nPrecision: {np.round(precision_score(y_test,y_predict),3)} \\nRecall: {np.round(recall_score(y_test,y_predict),3)}\\nROCAUC: {np.round(roc_auc_score(y_test,y_predict),3)}\\n\")\n",
    "\n",
    "print(f\"Confusion Matix: \\n{confusion_matrix(y_test,y_predict)}\")\n",
    "\n",
    "#Let's create a dataframe that we can add our scores to\n",
    "model_scores = pd.DataFrame([{'Model':'Dummy Majority','Accuracy':np.round(dummy_majority.score(X_test,y_test),3), 'Precision':np.round(precision_score(y_test,y_predict),3),'Recall':np.round(recall_score(y_test,y_predict),3),'ROCAUC':np.round(roc_auc_score(y_test,y_predict),3)}])\n",
    "model_scores.head()"
   ]
  },
  {
   "cell_type": "code",
   "execution_count": 78,
   "metadata": {},
   "outputs": [
    {
     "name": "stdout",
     "output_type": "stream",
     "text": [
      "Stratified Class Dummy: \n",
      "\n",
      "Accuracy: 0.5 \n",
      "Precision: 0.405 \n",
      "Recall: 0.517\n",
      "ROCAUC: 0.503\n",
      "\n",
      "Confusion Matix: \n",
      "[[21 22]\n",
      " [14 15]]\n"
     ]
    },
    {
     "data": {
      "text/html": [
       "<div>\n",
       "<style scoped>\n",
       "    .dataframe tbody tr th:only-of-type {\n",
       "        vertical-align: middle;\n",
       "    }\n",
       "\n",
       "    .dataframe tbody tr th {\n",
       "        vertical-align: top;\n",
       "    }\n",
       "\n",
       "    .dataframe thead th {\n",
       "        text-align: right;\n",
       "    }\n",
       "</style>\n",
       "<table border=\"1\" class=\"dataframe\">\n",
       "  <thead>\n",
       "    <tr style=\"text-align: right;\">\n",
       "      <th></th>\n",
       "      <th>Model</th>\n",
       "      <th>Accuracy</th>\n",
       "      <th>Precision</th>\n",
       "      <th>Recall</th>\n",
       "      <th>ROCAUC</th>\n",
       "    </tr>\n",
       "  </thead>\n",
       "  <tbody>\n",
       "    <tr>\n",
       "      <th>0</th>\n",
       "      <td>Dummy Majority</td>\n",
       "      <td>0.597</td>\n",
       "      <td>0.000</td>\n",
       "      <td>0.000</td>\n",
       "      <td>0.500</td>\n",
       "    </tr>\n",
       "    <tr>\n",
       "      <th>1</th>\n",
       "      <td>Dummy Stratified</td>\n",
       "      <td>0.500</td>\n",
       "      <td>0.405</td>\n",
       "      <td>0.517</td>\n",
       "      <td>0.503</td>\n",
       "    </tr>\n",
       "  </tbody>\n",
       "</table>\n",
       "</div>"
      ],
      "text/plain": [
       "              Model  Accuracy  Precision  Recall  ROCAUC\n",
       "0    Dummy Majority     0.597      0.000   0.000   0.500\n",
       "1  Dummy Stratified     0.500      0.405   0.517   0.503"
      ]
     },
     "execution_count": 78,
     "metadata": {},
     "output_type": "execute_result"
    }
   ],
   "source": [
    "dummy_strat = DummyClassifier(strategy='stratified',random_state=model_seed).fit(X_train,y_train)\n",
    "y_predict = dummy_strat.predict(X_test)\n",
    "print(f\"Stratified Class Dummy: \\n\\nAccuracy: {np.round(dummy_strat.score(X_test,y_test),3)} \\nPrecision: {np.round(precision_score(y_test,y_predict),3)} \\nRecall: {np.round(recall_score(y_test,y_predict),3)}\\nROCAUC: {np.round(roc_auc_score(y_test,y_predict),3)}\\n\")\n",
    "\n",
    "print(f\"Confusion Matix: \\n{confusion_matrix(y_test,y_predict)}\")\n",
    "model_scores2 = pd.DataFrame([{'Model':'Dummy Stratified','Accuracy':np.round(dummy_strat.score(X_test,y_test),3), 'Precision':np.round(precision_score(y_test,y_predict),3),'Recall':np.round(recall_score(y_test,y_predict),3),'ROCAUC':np.round(roc_auc_score(y_test,y_predict),3)}])\n",
    "model_scores = pd.concat([model_scores,model_scores2],ignore_index=True)\n",
    "model_scores"
   ]
  },
  {
   "cell_type": "markdown",
   "metadata": {},
   "source": [
    "This gives us a good idea of the baseline of just random guesses in our model and what we need to beat with our classification algorithms. This shouldn't be too difficult. The first thing that we are going to do is apply a scalar to all our our quantitative columns so that we don't have abnormally weighed coefficients in our model that may mess up our analysis in some of the simpler linear models. \n",
    "\n",
    "If our data is normally distributed and we are using logistic regression the standardScalar() may be most benficial. When we want bounded data (between 0 and 1) for neural networks, we will want to use minMaxScalar. It may be best to try both and see which works best. Ultimatley, I will choose the best scalar and add it to my final Machine Learning Pipeline when exporting it using pickle."
   ]
  },
  {
   "cell_type": "code",
   "execution_count": 79,
   "metadata": {},
   "outputs": [],
   "source": [
    "if scaler_type.lower() == 'standard':\n",
    "    scaler = StandardScaler()\n",
    "    X_train[scaler_list] = scaler.fit_transform(X_train[scaler_list])\n",
    "    X_test[scaler_list] = scaler.transform(X_test[scaler_list])\n",
    "elif scaler_type.lower() == 'minmax':\n",
    "    scaler = MinMaxScaler()\n",
    "    X_train[scaler_list] = scaler.fit_transform(X_train[scaler_list])\n",
    "    X_test[scaler_list] = scaler.transform(X_test[scaler_list])"
   ]
  },
  {
   "cell_type": "markdown",
   "metadata": {},
   "source": [
    "Now that we have addressed the scaling of our data, we should be able to implement it in all of our classification models to determine which baseline model has the best outcome for our usecase. In this instance, we are likely going to be looking for maximization of either the recall or the auc_roc_score. So let's move forward with this. Let's set up an iterative list of models that we want to test with baseline parameters."
   ]
  },
  {
   "cell_type": "code",
   "execution_count": 80,
   "metadata": {},
   "outputs": [],
   "source": [
    "#Let's instantiate a list to contain all of our models\n",
    "models = []\n",
    "\n",
    "#Let's put all of the models in\n",
    "#Basic Models\n",
    "models.append(('LR', LogisticRegression()))\n",
    "models.append(('LDA', LinearDiscriminantAnalysis()))\n",
    "models.append(('KNN', KNeighborsClassifier()))\n",
    "models.append(('CART', DecisionTreeClassifier()))\n",
    "models.append(('NB', GaussianNB()))\n",
    "models.append(('SVM', SVC(max_iter = 2000)))\n",
    "#Neural Networks\n",
    "models.append(('NN', MLPClassifier(max_iter = 1000)))\n",
    "#Boosting Methods\n",
    "models.append(('AB', AdaBoostClassifier()))\n",
    "models.append(('GBM', GradientBoostingClassifier()))\n",
    "#Bagging Methods\n",
    "models.append(('RF', RandomForestClassifier()))\n",
    "models.append(('ET', ExtraTreesClassifier()))\n",
    "#Future work will Set up Keras Neural Networks"
   ]
  },
  {
   "cell_type": "markdown",
   "metadata": {},
   "source": [
    "Now that we have all of our models set up in a nice list. Let's itearte through and calculate the mean and standard devaition through a cross validation test with the data. This will allow us to quickly plot and view the results of the different models with baseline parameters on our problem in question. The big thing we are looking for here is whether or not our classification problem appears to be linear or non-linear based on model performance."
   ]
  },
  {
   "cell_type": "code",
   "execution_count": 81,
   "metadata": {},
   "outputs": [
    {
     "name": "stdout",
     "output_type": "stream",
     "text": [
      "LR: 0.097 (0.0235)\n",
      "LDA: 0.2439 (0.0664)\n",
      "KNN: 0.3243 (0.0509)\n",
      "CART: 0.4253 (0.0833)\n",
      "NB: 0.243 (0.1471)\n",
      "SVM: 0.115 (0.0399)\n"
     ]
    },
    {
     "name": "stderr",
     "output_type": "stream",
     "text": [
      "c:\\Users\\tmacp\\anaconda3\\envs\\QuantFinance\\Lib\\site-packages\\sklearn\\neural_network\\_multilayer_perceptron.py:691: ConvergenceWarning: Stochastic Optimizer: Maximum iterations (1000) reached and the optimization hasn't converged yet.\n",
      "  warnings.warn(\n",
      "c:\\Users\\tmacp\\anaconda3\\envs\\QuantFinance\\Lib\\site-packages\\sklearn\\neural_network\\_multilayer_perceptron.py:691: ConvergenceWarning: Stochastic Optimizer: Maximum iterations (1000) reached and the optimization hasn't converged yet.\n",
      "  warnings.warn(\n",
      "c:\\Users\\tmacp\\anaconda3\\envs\\QuantFinance\\Lib\\site-packages\\sklearn\\neural_network\\_multilayer_perceptron.py:691: ConvergenceWarning: Stochastic Optimizer: Maximum iterations (1000) reached and the optimization hasn't converged yet.\n",
      "  warnings.warn(\n"
     ]
    },
    {
     "name": "stdout",
     "output_type": "stream",
     "text": [
      "NN: 0.3613 (0.0631)\n",
      "AB: 0.2892 (0.0648)\n",
      "GBM: 0.3967 (0.0255)\n",
      "RF: 0.2579 (0.0339)\n",
      "ET: 0.3184 (0.0702)\n"
     ]
    }
   ],
   "source": [
    "#Instantiate our results list and a list of the names of the models\n",
    "results = []\n",
    "names = []\n",
    "\n",
    "#Iterate through to perform cross validation tests\n",
    "for name, model in models:\n",
    "    kfold = KFold(n_splits = folds)\n",
    "    cv_results = cross_val_score(model, X_train, y_train, cv=kfold, scoring=scoring)\n",
    "    results.append(cv_results)\n",
    "    names.append(name)\n",
    "    print(f\"{name}: {cv_results.mean().round(4)} ({cv_results.std().round(4)})\")"
   ]
  },
  {
   "cell_type": "markdown",
   "metadata": {},
   "source": [
    "Finally, we can plot these as box and whisker plots to see how they perform compared to each other based on the scoring technique."
   ]
  },
  {
   "cell_type": "code",
   "execution_count": 82,
   "metadata": {},
   "outputs": [
    {
     "data": {
      "image/png": "[encoded data removed]",
      "text/plain": [
       "<Figure size 800x400 with 1 Axes>"
      ]
     },
     "metadata": {},
     "output_type": "display_data"
    }
   ],
   "source": [
    "fig = plt.figure()\n",
    "fig.suptitle('Classification Algorithm Comparison')\n",
    "ax = fig.add_subplot(111)\n",
    "plt.boxplot(results)\n",
    "ax.set_xticklabels(names)\n",
    "fig.set_size_inches(8,4)\n",
    "plt.show()"
   ]
  },
  {
   "cell_type": "markdown",
   "metadata": {},
   "source": [
    "## Section 5: Tuning Supervised Models\n",
    "Based on this information, it actually looks like our Logistic Regression model shows the best fit. It's important to note that we still have quite a bit of standard deviation in our cross_validation scores. So we need to try and optimize this model to get the best perfromance out of it. Let's perform a grid search to see if we can improve the model and then take a look at some of the metrics and confusion matrix."
   ]
  },
  {
   "cell_type": "code",
   "execution_count": 83,
   "metadata": {},
   "outputs": [
    {
     "name": "stdout",
     "output_type": "stream",
     "text": [
      "Best recall: 0.6\n",
      "Best Params: {'C': 0.01, 'penalty': 'l1'}\n"
     ]
    }
   ],
   "source": [
    "#Let's set the values of the parameters we want to tune. \n",
    "grid_values = {'C':[0.01,0.1,1,10],\n",
    "              'penalty':['l1','l2']}\n",
    "grid_clf = GridSearchCV(LogisticRegression(class_weight='balanced', max_iter = 1000,solver='saga', random_state = model_seed), param_grid=grid_values,scoring=scoring,cv=folds)\n",
    "grid_clf.fit(X_train,y_train)\n",
    "print(f\"Best {scoring}: {grid_clf.best_score_}\")\n",
    "print(f\"Best Params: {grid_clf.best_params_}\")"
   ]
  },
  {
   "cell_type": "markdown",
   "metadata": {},
   "source": [
    "Okay, 0.6 recall actually seems quite good but before we get ahead of ourselves we should look at the confusion matrix and see what we are finding here."
   ]
  },
  {
   "cell_type": "code",
   "execution_count": 84,
   "metadata": {},
   "outputs": [
    {
     "data": {
      "text/html": [
       "<div>\n",
       "<style scoped>\n",
       "    .dataframe tbody tr th:only-of-type {\n",
       "        vertical-align: middle;\n",
       "    }\n",
       "\n",
       "    .dataframe tbody tr th {\n",
       "        vertical-align: top;\n",
       "    }\n",
       "\n",
       "    .dataframe thead th {\n",
       "        text-align: right;\n",
       "    }\n",
       "</style>\n",
       "<table border=\"1\" class=\"dataframe\">\n",
       "  <thead>\n",
       "    <tr style=\"text-align: right;\">\n",
       "      <th></th>\n",
       "      <th>Model</th>\n",
       "      <th>Accuracy</th>\n",
       "      <th>Precision</th>\n",
       "      <th>Recall</th>\n",
       "      <th>ROCAUC</th>\n",
       "    </tr>\n",
       "  </thead>\n",
       "  <tbody>\n",
       "    <tr>\n",
       "      <th>0</th>\n",
       "      <td>Dummy Majority</td>\n",
       "      <td>0.597</td>\n",
       "      <td>0.000</td>\n",
       "      <td>0.000</td>\n",
       "      <td>0.500</td>\n",
       "    </tr>\n",
       "    <tr>\n",
       "      <th>1</th>\n",
       "      <td>Dummy Stratified</td>\n",
       "      <td>0.500</td>\n",
       "      <td>0.405</td>\n",
       "      <td>0.517</td>\n",
       "      <td>0.503</td>\n",
       "    </tr>\n",
       "    <tr>\n",
       "      <th>2</th>\n",
       "      <td>Logistic Regression</td>\n",
       "      <td>0.403</td>\n",
       "      <td>0.403</td>\n",
       "      <td>1.000</td>\n",
       "      <td>0.500</td>\n",
       "    </tr>\n",
       "  </tbody>\n",
       "</table>\n",
       "</div>"
      ],
      "text/plain": [
       "                 Model  Accuracy  Precision  Recall  ROCAUC\n",
       "0       Dummy Majority     0.597      0.000   0.000   0.500\n",
       "1     Dummy Stratified     0.500      0.405   0.517   0.503\n",
       "2  Logistic Regression     0.403      0.403   1.000   0.500"
      ]
     },
     "execution_count": 84,
     "metadata": {},
     "output_type": "execute_result"
    }
   ],
   "source": [
    "#Let's pull out the model that was the best estimator here\n",
    "best_model = grid_clf.best_estimator_\n",
    "#Now, let's see how it performs based on the test data\n",
    "y_pred_proba = best_model.predict_proba(X_test)\n",
    "y_pred = best_model.predict(X_test)\n",
    "\n",
    "conf_matrix = confusion_matrix(y_test,y_pred)\n",
    "model_scores2 = pd.DataFrame([{'Model':'Logistic Regression','Accuracy':np.round(accuracy_score(y_test,y_pred),3), 'Precision':np.round(precision_score(y_test,y_pred),3),'Recall':np.round(recall_score(y_test,y_pred),3),'ROCAUC':np.round(roc_auc_score(y_test, y_pred_proba[:, 1]),3)}])\n",
    "model_scores = pd.concat([model_scores,model_scores2],ignore_index=True)\n",
    "model_scores"
   ]
  },
  {
   "cell_type": "code",
   "execution_count": 85,
   "metadata": {},
   "outputs": [
    {
     "data": {
      "image/png": "[encoded data removed]",
      "text/plain": [
       "<Figure size 640x480 with 2 Axes>"
      ]
     },
     "metadata": {},
     "output_type": "display_data"
    }
   ],
   "source": [
    "def plot_confusion(y_test,y_pred):\n",
    "    cm = confusion_matrix(y_test,y_pred)\n",
    "    labels = {\"Stopped\": 0, \"Profit target\": 1}.keys()\n",
    "    display_cm = ConfusionMatrixDisplay(confusion_matrix=cm, display_labels=labels)\n",
    "    display_cm.plot()\n",
    "    plt.show()\n",
    "plot_confusion(y_test,y_pred)"
   ]
  },
  {
   "cell_type": "markdown",
   "metadata": {},
   "source": [
    "Well, we can see that it just predicted all trades are going to hit profit, so it is no better than our actual model. Now, let's assume an actual trading strategy that aligns with our current trading strategy. That is, a 2:1 reward to risk for each trade. Let's take a look at how our procedure would do compared to no modelling. We will use the accuracy from our dummy classifier (always predicting the minortity) to estimate our batting average and calculate our net return, assuming $1.50 per transaction."
   ]
  },
  {
   "cell_type": "code",
   "execution_count": 86,
   "metadata": {},
   "outputs": [
    {
     "name": "stdout",
     "output_type": "stream",
     "text": [
      "The net profit of the strategy after 72 days is approximately $2142.0\n",
      "The net profit of the model after 72 days is approximately $2142.0\n",
      "This resulted in a net profit of $0.0 by implementing our machine learning model\n"
     ]
    }
   ],
   "source": [
    "transaction_fee = 1.50\n",
    "risk = 150\n",
    "reward = 2 * risk\n",
    "winrate = (1 - model_scores.iloc[0,1]).round(4)\n",
    "total_trades = conf_matrix.sum()\n",
    "#Calculate the net profit without using a model\n",
    "fees = total_trades * transaction_fee\n",
    "net_profit_nomodel = (reward * np.floor((total_trades * winrate))) - (risk * np.ceil((total_trades * (1 - winrate)))) - fees\n",
    "print(f\"The net profit of the strategy after {total_trades} days is approximately ${np.round(net_profit_nomodel,2)}\")\n",
    "#With model\n",
    "new_total_trades = conf_matrix[0,1] + conf_matrix[1,1]\n",
    "fees = new_total_trades * transaction_fee\n",
    "net_profit_model = (reward * conf_matrix[1,1]) - (risk * conf_matrix[0,1]) - fees\n",
    "print(f\"The net profit of the model after {total_trades} days is approximately ${np.round(net_profit_model,2)}\")\n",
    "print(f\"This resulted in a net profit of ${np.round(net_profit_model,2)-np.round(net_profit_nomodel,2)} by implementing our machine learning model\")"
   ]
  },
  {
   "cell_type": "markdown",
   "metadata": {},
   "source": [
    "Let's take a look at Kernalized Support Vector Machines as that shows potential with four out of 5 folds being pretty high recall."
   ]
  },
  {
   "cell_type": "code",
   "execution_count": 87,
   "metadata": {},
   "outputs": [
    {
     "name": "stdout",
     "output_type": "stream",
     "text": [
      "Best recall: 0.5514492753623188\n",
      "Best Params: {'C': 100, 'degree': 2}\n"
     ]
    }
   ],
   "source": [
    "grid_values = {'C': [0.01,0.1,1,10,100],\n",
    "               'degree': [1,2,3,4,5,6,7,8,9,10]}\n",
    "grid_clf = GridSearchCV(SVC(kernel='poly',random_state=model_seed),param_grid=grid_values,scoring=scoring,cv=folds)\n",
    "grid_clf.fit(X_train,y_train)\n",
    "print(f\"Best {scoring}: {grid_clf.best_score_}\")\n",
    "print(f\"Best Params: {grid_clf.best_params_}\")"
   ]
  },
  {
   "cell_type": "code",
   "execution_count": 88,
   "metadata": {},
   "outputs": [
    {
     "data": {
      "text/html": [
       "<div>\n",
       "<style scoped>\n",
       "    .dataframe tbody tr th:only-of-type {\n",
       "        vertical-align: middle;\n",
       "    }\n",
       "\n",
       "    .dataframe tbody tr th {\n",
       "        vertical-align: top;\n",
       "    }\n",
       "\n",
       "    .dataframe thead th {\n",
       "        text-align: right;\n",
       "    }\n",
       "</style>\n",
       "<table border=\"1\" class=\"dataframe\">\n",
       "  <thead>\n",
       "    <tr style=\"text-align: right;\">\n",
       "      <th></th>\n",
       "      <th>Model</th>\n",
       "      <th>Accuracy</th>\n",
       "      <th>Precision</th>\n",
       "      <th>Recall</th>\n",
       "      <th>ROCAUC</th>\n",
       "    </tr>\n",
       "  </thead>\n",
       "  <tbody>\n",
       "    <tr>\n",
       "      <th>0</th>\n",
       "      <td>Dummy Majority</td>\n",
       "      <td>0.597</td>\n",
       "      <td>0.000</td>\n",
       "      <td>0.000</td>\n",
       "      <td>0.500</td>\n",
       "    </tr>\n",
       "    <tr>\n",
       "      <th>1</th>\n",
       "      <td>Dummy Stratified</td>\n",
       "      <td>0.500</td>\n",
       "      <td>0.405</td>\n",
       "      <td>0.517</td>\n",
       "      <td>0.503</td>\n",
       "    </tr>\n",
       "    <tr>\n",
       "      <th>2</th>\n",
       "      <td>Logistic Regression</td>\n",
       "      <td>0.403</td>\n",
       "      <td>0.403</td>\n",
       "      <td>1.000</td>\n",
       "      <td>0.500</td>\n",
       "    </tr>\n",
       "    <tr>\n",
       "      <th>3</th>\n",
       "      <td>Support Vector Machine</td>\n",
       "      <td>0.500</td>\n",
       "      <td>0.379</td>\n",
       "      <td>0.379</td>\n",
       "      <td>0.500</td>\n",
       "    </tr>\n",
       "  </tbody>\n",
       "</table>\n",
       "</div>"
      ],
      "text/plain": [
       "                    Model  Accuracy  Precision  Recall  ROCAUC\n",
       "0          Dummy Majority     0.597      0.000   0.000   0.500\n",
       "1        Dummy Stratified     0.500      0.405   0.517   0.503\n",
       "2     Logistic Regression     0.403      0.403   1.000   0.500\n",
       "3  Support Vector Machine     0.500      0.379   0.379   0.500"
      ]
     },
     "execution_count": 88,
     "metadata": {},
     "output_type": "execute_result"
    }
   ],
   "source": [
    "#Let's pull out the model that was the best estimator here\n",
    "best_model = grid_clf.best_estimator_\n",
    "#Now, let's see how it performs based on the test data\n",
    "y_pred = best_model.predict(X_test)\n",
    "\n",
    "conf_matrix = confusion_matrix(y_test,y_pred)\n",
    "model_scores2 = pd.DataFrame([{'Model':'Support Vector Machine','Accuracy':np.round(accuracy_score(y_test,y_pred),3), 'Precision':np.round(precision_score(y_test,y_pred),3),'Recall':np.round(recall_score(y_test,y_pred),3),'ROCAUC':np.round(roc_auc_score(y_test, y_pred_proba[:, 1]),3)}])\n",
    "model_scores = pd.concat([model_scores,model_scores2],ignore_index=True)\n",
    "model_scores"
   ]
  },
  {
   "cell_type": "code",
   "execution_count": 89,
   "metadata": {},
   "outputs": [
    {
     "data": {
      "image/png": "[encoded data removed]",
      "text/plain": [
       "<Figure size 640x480 with 2 Axes>"
      ]
     },
     "metadata": {},
     "output_type": "display_data"
    }
   ],
   "source": [
    "def plot_confusion(y_test,y_pred):\n",
    "    cm = confusion_matrix(y_test,y_pred)\n",
    "    labels = {\"Stopped\": 0, \"Profit target\": 1}.keys()\n",
    "    display_cm = ConfusionMatrixDisplay(confusion_matrix=cm, display_labels=labels)\n",
    "    display_cm.plot()\n",
    "    plt.show()\n",
    "plot_confusion(y_test,y_pred)"
   ]
  },
  {
   "cell_type": "code",
   "execution_count": 90,
   "metadata": {},
   "outputs": [
    {
     "name": "stdout",
     "output_type": "stream",
     "text": [
      "The net profit of the strategy after 72 days is approximately $2142.0\n",
      "The net profit of the model after 72 days is approximately $556.5\n",
      "This resulted in a net profit of $-1585.5 by implementing our machine learning model\n"
     ]
    }
   ],
   "source": [
    "transaction_fee = 1.50\n",
    "risk = 150\n",
    "reward = 2 * risk\n",
    "winrate = (1 - model_scores.iloc[0,1]).round(4)\n",
    "total_trades = conf_matrix.sum()\n",
    "#Calculate the net profit without using a model\n",
    "fees = total_trades * transaction_fee\n",
    "net_profit_nomodel = (reward * np.floor((total_trades * winrate))) - (risk * np.ceil((total_trades * (1 - winrate)))) - fees\n",
    "print(f\"The net profit of the strategy after {total_trades} days is approximately ${np.round(net_profit_nomodel,2)}\")\n",
    "#With model\n",
    "new_total_trades = conf_matrix[0,1] + conf_matrix[1,1]\n",
    "fees = new_total_trades * transaction_fee\n",
    "net_profit_model = (reward * conf_matrix[1,1]) - (risk * conf_matrix[0,1]) - fees\n",
    "print(f\"The net profit of the model after {total_trades} days is approximately ${np.round(net_profit_model,2)}\")\n",
    "print(f\"This resulted in a net profit of ${np.round(net_profit_model,2)-np.round(net_profit_nomodel,2)} by implementing our machine learning model\")"
   ]
  },
  {
   "cell_type": "markdown",
   "metadata": {},
   "source": [
    "That really is not very good. Let's take a look at something that is not linear and see if we can get better results after tuning. I am going to choose one of the ensemble techniques. Lets start with the random forest as that is one that I am much more comfortable with."
   ]
  },
  {
   "cell_type": "code",
   "execution_count": 91,
   "metadata": {},
   "outputs": [
    {
     "name": "stdout",
     "output_type": "stream",
     "text": [
      "Best recall: 0.33659420289855074\n",
      "Best Params: {'max_depth': 4, 'max_features': 4, 'n_estimators': 5}\n"
     ]
    }
   ],
   "source": [
    "#Set up our grid search\n",
    "grid_values = {'max_features': [4,5,6,7],\n",
    "               'n_estimators': [5,10,20,50,100],\n",
    "               'max_depth': [2,3,4,5]}\n",
    "clf = RandomForestClassifier(n_jobs = -1, random_state = model_seed)\n",
    "grid_clf = GridSearchCV(clf, param_grid=grid_values,scoring=scoring)\n",
    "grid_clf.fit(X_train,y_train)\n",
    "print(f\"Best {scoring}: {grid_clf.best_score_}\")\n",
    "print(f\"Best Params: {grid_clf.best_params_}\")"
   ]
  },
  {
   "cell_type": "code",
   "execution_count": 92,
   "metadata": {},
   "outputs": [
    {
     "data": {
      "text/html": [
       "<div>\n",
       "<style scoped>\n",
       "    .dataframe tbody tr th:only-of-type {\n",
       "        vertical-align: middle;\n",
       "    }\n",
       "\n",
       "    .dataframe tbody tr th {\n",
       "        vertical-align: top;\n",
       "    }\n",
       "\n",
       "    .dataframe thead th {\n",
       "        text-align: right;\n",
       "    }\n",
       "</style>\n",
       "<table border=\"1\" class=\"dataframe\">\n",
       "  <thead>\n",
       "    <tr style=\"text-align: right;\">\n",
       "      <th></th>\n",
       "      <th>Model</th>\n",
       "      <th>Accuracy</th>\n",
       "      <th>Precision</th>\n",
       "      <th>Recall</th>\n",
       "      <th>ROCAUC</th>\n",
       "    </tr>\n",
       "  </thead>\n",
       "  <tbody>\n",
       "    <tr>\n",
       "      <th>0</th>\n",
       "      <td>Dummy Majority</td>\n",
       "      <td>0.597</td>\n",
       "      <td>0.000</td>\n",
       "      <td>0.000</td>\n",
       "      <td>0.500</td>\n",
       "    </tr>\n",
       "    <tr>\n",
       "      <th>1</th>\n",
       "      <td>Dummy Stratified</td>\n",
       "      <td>0.500</td>\n",
       "      <td>0.405</td>\n",
       "      <td>0.517</td>\n",
       "      <td>0.503</td>\n",
       "    </tr>\n",
       "    <tr>\n",
       "      <th>2</th>\n",
       "      <td>Logistic Regression</td>\n",
       "      <td>0.403</td>\n",
       "      <td>0.403</td>\n",
       "      <td>1.000</td>\n",
       "      <td>0.500</td>\n",
       "    </tr>\n",
       "    <tr>\n",
       "      <th>3</th>\n",
       "      <td>Support Vector Machine</td>\n",
       "      <td>0.500</td>\n",
       "      <td>0.379</td>\n",
       "      <td>0.379</td>\n",
       "      <td>0.500</td>\n",
       "    </tr>\n",
       "    <tr>\n",
       "      <th>4</th>\n",
       "      <td>Random Forest</td>\n",
       "      <td>0.542</td>\n",
       "      <td>0.400</td>\n",
       "      <td>0.276</td>\n",
       "      <td>0.427</td>\n",
       "    </tr>\n",
       "  </tbody>\n",
       "</table>\n",
       "</div>"
      ],
      "text/plain": [
       "                    Model  Accuracy  Precision  Recall  ROCAUC\n",
       "0          Dummy Majority     0.597      0.000   0.000   0.500\n",
       "1        Dummy Stratified     0.500      0.405   0.517   0.503\n",
       "2     Logistic Regression     0.403      0.403   1.000   0.500\n",
       "3  Support Vector Machine     0.500      0.379   0.379   0.500\n",
       "4           Random Forest     0.542      0.400   0.276   0.427"
      ]
     },
     "execution_count": 92,
     "metadata": {},
     "output_type": "execute_result"
    }
   ],
   "source": [
    "#Let's pull out the model that was the best estimator here\n",
    "best_model = grid_clf.best_estimator_\n",
    "#Now, let's see how it performs based on the test data\n",
    "y_pred_proba = best_model.predict_proba(X_test)\n",
    "y_pred = best_model.predict(X_test)\n",
    "\n",
    "conf_matrix = confusion_matrix(y_test,y_pred)\n",
    "model_scores2 = pd.DataFrame([{'Model':'Random Forest','Accuracy':np.round(accuracy_score(y_test,y_pred),3), 'Precision':np.round(precision_score(y_test,y_pred),3),'Recall':np.round(recall_score(y_test,y_pred),3),'ROCAUC':np.round(roc_auc_score(y_test, y_pred_proba[:, 1]),3)}])\n",
    "model_scores = pd.concat([model_scores,model_scores2],ignore_index=True)\n",
    "model_scores"
   ]
  },
  {
   "cell_type": "code",
   "execution_count": 93,
   "metadata": {},
   "outputs": [
    {
     "data": {
      "image/png": "[encoded data removed]",
      "text/plain": [
       "<Figure size 640x480 with 2 Axes>"
      ]
     },
     "metadata": {},
     "output_type": "display_data"
    }
   ],
   "source": [
    "def plot_confusion(y_test,y_pred):\n",
    "    cm = confusion_matrix(y_test,y_pred)\n",
    "    labels = {\"Stopped\": 0, \"Profit target\": 1}.keys()\n",
    "    display_cm = ConfusionMatrixDisplay(confusion_matrix=cm, display_labels=labels)\n",
    "    display_cm.plot()\n",
    "    plt.show()\n",
    "plot_confusion(y_test,y_pred)"
   ]
  },
  {
   "cell_type": "code",
   "execution_count": 94,
   "metadata": {},
   "outputs": [
    {
     "name": "stdout",
     "output_type": "stream",
     "text": [
      "The net profit of the strategy after 72 days is approximately $2142.0\n",
      "The net profit of the model after 72 days is approximately $570.0\n",
      "This resulted in a net profit of $-1572.0 by implementing our machine learning model\n"
     ]
    }
   ],
   "source": [
    "transaction_fee = 1.50\n",
    "risk = 150\n",
    "reward = 2 * risk\n",
    "winrate = (1 - model_scores.iloc[0,1]).round(4)\n",
    "total_trades = conf_matrix.sum()\n",
    "#Calculate the net profit without using a model\n",
    "fees = total_trades * transaction_fee\n",
    "net_profit_nomodel = (reward * np.floor((total_trades * winrate))) - (risk * np.ceil((total_trades * (1 - winrate)))) - fees\n",
    "print(f\"The net profit of the strategy after {total_trades} days is approximately ${np.round(net_profit_nomodel,2)}\")\n",
    "#With model\n",
    "new_total_trades = conf_matrix[0,1] + conf_matrix[1,1]\n",
    "fees = new_total_trades * transaction_fee\n",
    "net_profit_model = (reward * conf_matrix[1,1]) - (risk * conf_matrix[0,1]) - fees\n",
    "print(f\"The net profit of the model after {total_trades} days is approximately ${np.round(net_profit_model,2)}\")\n",
    "print(f\"This resulted in a net profit of ${np.round(net_profit_model,2)-np.round(net_profit_nomodel,2)} by implementing our machine learning model\")"
   ]
  },
  {
   "cell_type": "markdown",
   "metadata": {},
   "source": [
    "Still not great, can we get any imporvement using a gradient boosted tree?"
   ]
  },
  {
   "cell_type": "code",
   "execution_count": 95,
   "metadata": {},
   "outputs": [
    {
     "name": "stdout",
     "output_type": "stream",
     "text": [
      "Best recall: 0.38840579710144923\n",
      "Best Params: {'max_depth': 5, 'max_features': 5, 'n_estimators': 100}\n"
     ]
    }
   ],
   "source": [
    "#Set up our grid search\n",
    "grid_values = {'max_features': [4,5,6,7],\n",
    "               'n_estimators': [5,10,20,50,100],\n",
    "               'max_depth': [2,3,4,5]}\n",
    "clf = GradientBoostingClassifier(random_state = model_seed)\n",
    "grid_clf = GridSearchCV(clf, param_grid=grid_values,scoring=scoring)\n",
    "grid_clf.fit(X_train,y_train)\n",
    "print(f\"Best {scoring}: {grid_clf.best_score_}\")\n",
    "print(f\"Best Params: {grid_clf.best_params_}\")"
   ]
  },
  {
   "cell_type": "code",
   "execution_count": 96,
   "metadata": {},
   "outputs": [
    {
     "data": {
      "text/html": [
       "<div>\n",
       "<style scoped>\n",
       "    .dataframe tbody tr th:only-of-type {\n",
       "        vertical-align: middle;\n",
       "    }\n",
       "\n",
       "    .dataframe tbody tr th {\n",
       "        vertical-align: top;\n",
       "    }\n",
       "\n",
       "    .dataframe thead th {\n",
       "        text-align: right;\n",
       "    }\n",
       "</style>\n",
       "<table border=\"1\" class=\"dataframe\">\n",
       "  <thead>\n",
       "    <tr style=\"text-align: right;\">\n",
       "      <th></th>\n",
       "      <th>Model</th>\n",
       "      <th>Accuracy</th>\n",
       "      <th>Precision</th>\n",
       "      <th>Recall</th>\n",
       "      <th>ROCAUC</th>\n",
       "    </tr>\n",
       "  </thead>\n",
       "  <tbody>\n",
       "    <tr>\n",
       "      <th>0</th>\n",
       "      <td>Dummy Majority</td>\n",
       "      <td>0.597</td>\n",
       "      <td>0.000</td>\n",
       "      <td>0.000</td>\n",
       "      <td>0.500</td>\n",
       "    </tr>\n",
       "    <tr>\n",
       "      <th>1</th>\n",
       "      <td>Dummy Stratified</td>\n",
       "      <td>0.500</td>\n",
       "      <td>0.405</td>\n",
       "      <td>0.517</td>\n",
       "      <td>0.503</td>\n",
       "    </tr>\n",
       "    <tr>\n",
       "      <th>2</th>\n",
       "      <td>Logistic Regression</td>\n",
       "      <td>0.403</td>\n",
       "      <td>0.403</td>\n",
       "      <td>1.000</td>\n",
       "      <td>0.500</td>\n",
       "    </tr>\n",
       "    <tr>\n",
       "      <th>3</th>\n",
       "      <td>Support Vector Machine</td>\n",
       "      <td>0.500</td>\n",
       "      <td>0.379</td>\n",
       "      <td>0.379</td>\n",
       "      <td>0.500</td>\n",
       "    </tr>\n",
       "    <tr>\n",
       "      <th>4</th>\n",
       "      <td>Random Forest</td>\n",
       "      <td>0.542</td>\n",
       "      <td>0.400</td>\n",
       "      <td>0.276</td>\n",
       "      <td>0.427</td>\n",
       "    </tr>\n",
       "    <tr>\n",
       "      <th>5</th>\n",
       "      <td>Gradient Boosted Trees</td>\n",
       "      <td>0.514</td>\n",
       "      <td>0.364</td>\n",
       "      <td>0.276</td>\n",
       "      <td>0.412</td>\n",
       "    </tr>\n",
       "  </tbody>\n",
       "</table>\n",
       "</div>"
      ],
      "text/plain": [
       "                    Model  Accuracy  Precision  Recall  ROCAUC\n",
       "0          Dummy Majority     0.597      0.000   0.000   0.500\n",
       "1        Dummy Stratified     0.500      0.405   0.517   0.503\n",
       "2     Logistic Regression     0.403      0.403   1.000   0.500\n",
       "3  Support Vector Machine     0.500      0.379   0.379   0.500\n",
       "4           Random Forest     0.542      0.400   0.276   0.427\n",
       "5  Gradient Boosted Trees     0.514      0.364   0.276   0.412"
      ]
     },
     "execution_count": 96,
     "metadata": {},
     "output_type": "execute_result"
    }
   ],
   "source": [
    "#Let's pull out the model that was the best estimator here\n",
    "best_model = grid_clf.best_estimator_\n",
    "#Now, let's see how it performs based on the test data\n",
    "y_pred_proba = best_model.predict_proba(X_test)\n",
    "y_pred = best_model.predict(X_test)\n",
    "\n",
    "conf_matrix = confusion_matrix(y_test,y_pred)\n",
    "model_scores2 = pd.DataFrame([{'Model':'Gradient Boosted Trees','Accuracy':np.round(accuracy_score(y_test,y_pred),3), 'Precision':np.round(precision_score(y_test,y_pred),3),'Recall':np.round(recall_score(y_test,y_pred),3),'ROCAUC':np.round(roc_auc_score(y_test, y_pred_proba[:, 1]),3)}])\n",
    "model_scores = pd.concat([model_scores,model_scores2],ignore_index=True)\n",
    "model_scores"
   ]
  },
  {
   "cell_type": "code",
   "execution_count": 97,
   "metadata": {},
   "outputs": [
    {
     "data": {
      "image/png": "[encoded data removed]",
      "text/plain": [
       "<Figure size 640x480 with 2 Axes>"
      ]
     },
     "metadata": {},
     "output_type": "display_data"
    }
   ],
   "source": [
    "def plot_confusion(y_test,y_pred):\n",
    "    cm = confusion_matrix(y_test,y_pred)\n",
    "    labels = {\"Stopped\": 0, \"Profit target\": 1}.keys()\n",
    "    display_cm = ConfusionMatrixDisplay(confusion_matrix=cm, display_labels=labels)\n",
    "    display_cm.plot()\n",
    "    plt.show()\n",
    "plot_confusion(y_test,y_pred)"
   ]
  },
  {
   "cell_type": "code",
   "execution_count": 98,
   "metadata": {},
   "outputs": [
    {
     "name": "stdout",
     "output_type": "stream",
     "text": [
      "The net profit of the strategy after 72 days is approximately $2142.0\n",
      "The net profit of the model after 72 days is approximately $267.0\n",
      "This resulted in a net profit of $-1875.0 by implementing our machine learning model\n"
     ]
    }
   ],
   "source": [
    "transaction_fee = 1.50\n",
    "risk = 150\n",
    "reward = 2 * risk\n",
    "winrate = (1 - model_scores.iloc[0,1]).round(4)\n",
    "total_trades = conf_matrix.sum()\n",
    "#Calculate the net profit without using a model\n",
    "fees = total_trades * transaction_fee\n",
    "net_profit_nomodel = (reward * np.floor((total_trades * winrate))) - (risk * np.ceil((total_trades * (1 - winrate)))) - fees\n",
    "print(f\"The net profit of the strategy after {total_trades} days is approximately ${np.round(net_profit_nomodel,2)}\")\n",
    "#With model\n",
    "new_total_trades = conf_matrix[0,1] + conf_matrix[1,1]\n",
    "fees = new_total_trades * transaction_fee\n",
    "net_profit_model = (reward * conf_matrix[1,1]) - (risk * conf_matrix[0,1]) - fees\n",
    "print(f\"The net profit of the model after {total_trades} days is approximately ${np.round(net_profit_model,2)}\")\n",
    "print(f\"This resulted in a net profit of ${np.round(net_profit_model,2)-np.round(net_profit_nomodel,2)} by implementing our machine learning model\")"
   ]
  },
  {
   "cell_type": "markdown",
   "metadata": {},
   "source": [
    "Finally, let's take a quick look at two form of neural networks to see if we can get any further information. We will start with a simple shallow neural network and then also look at a deep neural network."
   ]
  },
  {
   "cell_type": "code",
   "execution_count": 99,
   "metadata": {},
   "outputs": [
    {
     "name": "stdout",
     "output_type": "stream",
     "text": [
      "Best recall: 0.5079710144927536\n",
      "Best Params: {'alpha': 0.01, 'hidden_layer_sizes': [7]}\n"
     ]
    }
   ],
   "source": [
    "#Set up our grid search\n",
    "grid_values = {'hidden_layer_sizes': [[7],[8],[9],[10],[11]],\n",
    "               'alpha': [0.01,0.1,1,5,10]}\n",
    "clf = MLPClassifier(max_iter=8000,solver='lbfgs',random_state = model_seed)\n",
    "grid_clf = GridSearchCV(clf, param_grid=grid_values,scoring=scoring)\n",
    "grid_clf.fit(X_train,y_train)\n",
    "print(f\"Best {scoring}: {grid_clf.best_score_}\")\n",
    "print(f\"Best Params: {grid_clf.best_params_}\")"
   ]
  },
  {
   "cell_type": "code",
   "execution_count": 100,
   "metadata": {},
   "outputs": [
    {
     "data": {
      "text/html": [
       "<div>\n",
       "<style scoped>\n",
       "    .dataframe tbody tr th:only-of-type {\n",
       "        vertical-align: middle;\n",
       "    }\n",
       "\n",
       "    .dataframe tbody tr th {\n",
       "        vertical-align: top;\n",
       "    }\n",
       "\n",
       "    .dataframe thead th {\n",
       "        text-align: right;\n",
       "    }\n",
       "</style>\n",
       "<table border=\"1\" class=\"dataframe\">\n",
       "  <thead>\n",
       "    <tr style=\"text-align: right;\">\n",
       "      <th></th>\n",
       "      <th>Model</th>\n",
       "      <th>Accuracy</th>\n",
       "      <th>Precision</th>\n",
       "      <th>Recall</th>\n",
       "      <th>ROCAUC</th>\n",
       "    </tr>\n",
       "  </thead>\n",
       "  <tbody>\n",
       "    <tr>\n",
       "      <th>0</th>\n",
       "      <td>Dummy Majority</td>\n",
       "      <td>0.597</td>\n",
       "      <td>0.000</td>\n",
       "      <td>0.000</td>\n",
       "      <td>0.500</td>\n",
       "    </tr>\n",
       "    <tr>\n",
       "      <th>1</th>\n",
       "      <td>Dummy Stratified</td>\n",
       "      <td>0.500</td>\n",
       "      <td>0.405</td>\n",
       "      <td>0.517</td>\n",
       "      <td>0.503</td>\n",
       "    </tr>\n",
       "    <tr>\n",
       "      <th>2</th>\n",
       "      <td>Logistic Regression</td>\n",
       "      <td>0.403</td>\n",
       "      <td>0.403</td>\n",
       "      <td>1.000</td>\n",
       "      <td>0.500</td>\n",
       "    </tr>\n",
       "    <tr>\n",
       "      <th>3</th>\n",
       "      <td>Support Vector Machine</td>\n",
       "      <td>0.500</td>\n",
       "      <td>0.379</td>\n",
       "      <td>0.379</td>\n",
       "      <td>0.500</td>\n",
       "    </tr>\n",
       "    <tr>\n",
       "      <th>4</th>\n",
       "      <td>Random Forest</td>\n",
       "      <td>0.542</td>\n",
       "      <td>0.400</td>\n",
       "      <td>0.276</td>\n",
       "      <td>0.427</td>\n",
       "    </tr>\n",
       "    <tr>\n",
       "      <th>5</th>\n",
       "      <td>Gradient Boosted Trees</td>\n",
       "      <td>0.514</td>\n",
       "      <td>0.364</td>\n",
       "      <td>0.276</td>\n",
       "      <td>0.412</td>\n",
       "    </tr>\n",
       "    <tr>\n",
       "      <th>6</th>\n",
       "      <td>Shallow Neural Network</td>\n",
       "      <td>0.417</td>\n",
       "      <td>0.356</td>\n",
       "      <td>0.552</td>\n",
       "      <td>0.431</td>\n",
       "    </tr>\n",
       "  </tbody>\n",
       "</table>\n",
       "</div>"
      ],
      "text/plain": [
       "                    Model  Accuracy  Precision  Recall  ROCAUC\n",
       "0          Dummy Majority     0.597      0.000   0.000   0.500\n",
       "1        Dummy Stratified     0.500      0.405   0.517   0.503\n",
       "2     Logistic Regression     0.403      0.403   1.000   0.500\n",
       "3  Support Vector Machine     0.500      0.379   0.379   0.500\n",
       "4           Random Forest     0.542      0.400   0.276   0.427\n",
       "5  Gradient Boosted Trees     0.514      0.364   0.276   0.412\n",
       "6  Shallow Neural Network     0.417      0.356   0.552   0.431"
      ]
     },
     "execution_count": 100,
     "metadata": {},
     "output_type": "execute_result"
    }
   ],
   "source": [
    "#Let's pull out the model that was the best estimator here\n",
    "best_model = grid_clf.best_estimator_\n",
    "#Now, let's see how it performs based on the test data\n",
    "y_pred_proba = best_model.predict_proba(X_test)\n",
    "y_pred = best_model.predict(X_test)\n",
    "\n",
    "conf_matrix = confusion_matrix(y_test,y_pred)\n",
    "model_scores2 = pd.DataFrame([{'Model':'Shallow Neural Network','Accuracy':np.round(accuracy_score(y_test,y_pred),3), 'Precision':np.round(precision_score(y_test,y_pred),3),'Recall':np.round(recall_score(y_test,y_pred),3),'ROCAUC':np.round(roc_auc_score(y_test, y_pred_proba[:, 1]),3)}])\n",
    "model_scores = pd.concat([model_scores,model_scores2],ignore_index=True)\n",
    "model_scores"
   ]
  },
  {
   "cell_type": "code",
   "execution_count": 101,
   "metadata": {},
   "outputs": [
    {
     "data": {
      "image/png": "[encoded data removed]",
      "text/plain": [
       "<Figure size 640x480 with 2 Axes>"
      ]
     },
     "metadata": {},
     "output_type": "display_data"
    }
   ],
   "source": [
    "def plot_confusion(y_test,y_pred):\n",
    "    cm = confusion_matrix(y_test,y_pred)\n",
    "    labels = {\"Stopped\": 0, \"Profit target\": 1}.keys()\n",
    "    display_cm = ConfusionMatrixDisplay(confusion_matrix=cm, display_labels=labels)\n",
    "    display_cm.plot()\n",
    "    plt.show()\n",
    "plot_confusion(y_test,y_pred)"
   ]
  },
  {
   "cell_type": "code",
   "execution_count": 102,
   "metadata": {},
   "outputs": [
    {
     "name": "stdout",
     "output_type": "stream",
     "text": [
      "The net profit of the strategy after 72 days is approximately $2142.0\n",
      "The net profit of the model after 72 days is approximately $382.5\n",
      "This resulted in a net profit of $-1759.5 by implementing our machine learning model\n"
     ]
    }
   ],
   "source": [
    "transaction_fee = 1.50\n",
    "risk = 150\n",
    "reward = 2 * risk\n",
    "winrate = (1 - model_scores.iloc[0,1]).round(4)\n",
    "total_trades = conf_matrix.sum()\n",
    "#Calculate the net profit without using a model\n",
    "fees = total_trades * transaction_fee\n",
    "net_profit_nomodel = (reward * np.floor((total_trades * winrate))) - (risk * np.ceil((total_trades * (1 - winrate)))) - fees\n",
    "print(f\"The net profit of the strategy after {total_trades} days is approximately ${np.round(net_profit_nomodel,2)}\")\n",
    "#With model\n",
    "new_total_trades = conf_matrix[0,1] + conf_matrix[1,1]\n",
    "fees = new_total_trades * transaction_fee\n",
    "net_profit_model = (reward * conf_matrix[1,1]) - (risk * conf_matrix[0,1]) - fees\n",
    "print(f\"The net profit of the model after {total_trades} days is approximately ${np.round(net_profit_model,2)}\")\n",
    "print(f\"This resulted in a net profit of ${np.round(net_profit_model,2)-np.round(net_profit_nomodel,2)} by implementing our machine learning model\")"
   ]
  },
  {
   "cell_type": "code",
   "execution_count": 103,
   "metadata": {},
   "outputs": [
    {
     "name": "stdout",
     "output_type": "stream",
     "text": [
      "Best recall: 0.5264492753623189\n",
      "Best Params: {'alpha': 0.1, 'hidden_layer_sizes': [10, 5, 2]}\n"
     ]
    }
   ],
   "source": [
    "#Set up our grid search\n",
    "grid_values = {'hidden_layer_sizes': [[5,10,2],[5,10,3],[10,5,2]],\n",
    "               'alpha': [0.01,0.1,1,5,10]}\n",
    "clf = MLPClassifier(max_iter=8000,solver='lbfgs',random_state = model_seed)\n",
    "grid_clf = GridSearchCV(clf, param_grid=grid_values,scoring=scoring)\n",
    "grid_clf.fit(X_train,y_train)\n",
    "print(f\"Best {scoring}: {grid_clf.best_score_}\")\n",
    "print(f\"Best Params: {grid_clf.best_params_}\")"
   ]
  },
  {
   "cell_type": "code",
   "execution_count": 104,
   "metadata": {},
   "outputs": [
    {
     "data": {
      "text/html": [
       "<div>\n",
       "<style scoped>\n",
       "    .dataframe tbody tr th:only-of-type {\n",
       "        vertical-align: middle;\n",
       "    }\n",
       "\n",
       "    .dataframe tbody tr th {\n",
       "        vertical-align: top;\n",
       "    }\n",
       "\n",
       "    .dataframe thead th {\n",
       "        text-align: right;\n",
       "    }\n",
       "</style>\n",
       "<table border=\"1\" class=\"dataframe\">\n",
       "  <thead>\n",
       "    <tr style=\"text-align: right;\">\n",
       "      <th></th>\n",
       "      <th>Model</th>\n",
       "      <th>Accuracy</th>\n",
       "      <th>Precision</th>\n",
       "      <th>Recall</th>\n",
       "      <th>ROCAUC</th>\n",
       "    </tr>\n",
       "  </thead>\n",
       "  <tbody>\n",
       "    <tr>\n",
       "      <th>0</th>\n",
       "      <td>Dummy Majority</td>\n",
       "      <td>0.597</td>\n",
       "      <td>0.000</td>\n",
       "      <td>0.000</td>\n",
       "      <td>0.500</td>\n",
       "    </tr>\n",
       "    <tr>\n",
       "      <th>1</th>\n",
       "      <td>Dummy Stratified</td>\n",
       "      <td>0.500</td>\n",
       "      <td>0.405</td>\n",
       "      <td>0.517</td>\n",
       "      <td>0.503</td>\n",
       "    </tr>\n",
       "    <tr>\n",
       "      <th>2</th>\n",
       "      <td>Logistic Regression</td>\n",
       "      <td>0.403</td>\n",
       "      <td>0.403</td>\n",
       "      <td>1.000</td>\n",
       "      <td>0.500</td>\n",
       "    </tr>\n",
       "    <tr>\n",
       "      <th>3</th>\n",
       "      <td>Support Vector Machine</td>\n",
       "      <td>0.500</td>\n",
       "      <td>0.379</td>\n",
       "      <td>0.379</td>\n",
       "      <td>0.500</td>\n",
       "    </tr>\n",
       "    <tr>\n",
       "      <th>4</th>\n",
       "      <td>Random Forest</td>\n",
       "      <td>0.542</td>\n",
       "      <td>0.400</td>\n",
       "      <td>0.276</td>\n",
       "      <td>0.427</td>\n",
       "    </tr>\n",
       "    <tr>\n",
       "      <th>5</th>\n",
       "      <td>Gradient Boosted Trees</td>\n",
       "      <td>0.514</td>\n",
       "      <td>0.364</td>\n",
       "      <td>0.276</td>\n",
       "      <td>0.412</td>\n",
       "    </tr>\n",
       "    <tr>\n",
       "      <th>6</th>\n",
       "      <td>Shallow Neural Network</td>\n",
       "      <td>0.417</td>\n",
       "      <td>0.356</td>\n",
       "      <td>0.552</td>\n",
       "      <td>0.431</td>\n",
       "    </tr>\n",
       "    <tr>\n",
       "      <th>7</th>\n",
       "      <td>Deep Neural Network</td>\n",
       "      <td>0.444</td>\n",
       "      <td>0.333</td>\n",
       "      <td>0.379</td>\n",
       "      <td>0.435</td>\n",
       "    </tr>\n",
       "  </tbody>\n",
       "</table>\n",
       "</div>"
      ],
      "text/plain": [
       "                    Model  Accuracy  Precision  Recall  ROCAUC\n",
       "0          Dummy Majority     0.597      0.000   0.000   0.500\n",
       "1        Dummy Stratified     0.500      0.405   0.517   0.503\n",
       "2     Logistic Regression     0.403      0.403   1.000   0.500\n",
       "3  Support Vector Machine     0.500      0.379   0.379   0.500\n",
       "4           Random Forest     0.542      0.400   0.276   0.427\n",
       "5  Gradient Boosted Trees     0.514      0.364   0.276   0.412\n",
       "6  Shallow Neural Network     0.417      0.356   0.552   0.431\n",
       "7     Deep Neural Network     0.444      0.333   0.379   0.435"
      ]
     },
     "execution_count": 104,
     "metadata": {},
     "output_type": "execute_result"
    }
   ],
   "source": [
    "#Let's pull out the model that was the best estimator here\n",
    "best_model = grid_clf.best_estimator_\n",
    "#Now, let's see how it performs based on the test data\n",
    "y_pred_proba = best_model.predict_proba(X_test)\n",
    "y_pred = best_model.predict(X_test)\n",
    "\n",
    "conf_matrix = confusion_matrix(y_test,y_pred)\n",
    "model_scores2 = pd.DataFrame([{'Model':'Deep Neural Network','Accuracy':np.round(accuracy_score(y_test,y_pred),3), 'Precision':np.round(precision_score(y_test,y_pred),3),'Recall':np.round(recall_score(y_test,y_pred),3),'ROCAUC':np.round(roc_auc_score(y_test, y_pred_proba[:, 1]),3)}])\n",
    "model_scores = pd.concat([model_scores,model_scores2],ignore_index=True)\n",
    "model_scores"
   ]
  },
  {
   "cell_type": "code",
   "execution_count": 105,
   "metadata": {},
   "outputs": [
    {
     "data": {
      "image/png": "[encoded data removed]",
      "text/plain": [
       "<Figure size 640x480 with 2 Axes>"
      ]
     },
     "metadata": {},
     "output_type": "display_data"
    }
   ],
   "source": [
    "def plot_confusion(y_test,y_pred):\n",
    "    cm = confusion_matrix(y_test,y_pred)\n",
    "    labels = {\"Stopped\": 0, \"Profit target\": 1}.keys()\n",
    "    display_cm = ConfusionMatrixDisplay(confusion_matrix=cm, display_labels=labels)\n",
    "    display_cm.plot()\n",
    "    plt.show()\n",
    "plot_confusion(y_test,y_pred)"
   ]
  },
  {
   "cell_type": "code",
   "execution_count": 106,
   "metadata": {},
   "outputs": [
    {
     "name": "stdout",
     "output_type": "stream",
     "text": [
      "The net profit of the strategy after 72 days is approximately $2142.0\n",
      "The net profit of the model after 72 days is approximately $-49.5\n",
      "This resulted in a net profit of $-2191.5 by implementing our machine learning model\n"
     ]
    }
   ],
   "source": [
    "transaction_fee = 1.50\n",
    "risk = 150\n",
    "reward = 2 * risk\n",
    "winrate = (1 - model_scores.iloc[0,1]).round(4)\n",
    "total_trades = conf_matrix.sum()\n",
    "#Calculate the net profit without using a model\n",
    "fees = total_trades * transaction_fee\n",
    "net_profit_nomodel = (reward * np.floor((total_trades * winrate))) - (risk * np.ceil((total_trades * (1 - winrate)))) - fees\n",
    "print(f\"The net profit of the strategy after {total_trades} days is approximately ${np.round(net_profit_nomodel,2)}\")\n",
    "#With model\n",
    "new_total_trades = conf_matrix[0,1] + conf_matrix[1,1]\n",
    "fees = new_total_trades * transaction_fee\n",
    "net_profit_model = (reward * conf_matrix[1,1]) - (risk * conf_matrix[0,1]) - fees\n",
    "print(f\"The net profit of the model after {total_trades} days is approximately ${np.round(net_profit_model,2)}\")\n",
    "print(f\"This resulted in a net profit of ${np.round(net_profit_model,2)-np.round(net_profit_nomodel,2)} by implementing our machine learning model\")"
   ]
  },
  {
   "cell_type": "markdown",
   "metadata": {},
   "source": [
    "## Section 6: Conclusions\n",
    "It is interesting to note that with the features we have chosen, none beat the random nature of just taking every trade regardless of what the outcome will be. Machine learning doesn't always give you insights but this gives us a general framework of how we can add features for a machine learning model in practice."
   ]
  }
 ],
 "metadata": {
  "kernelspec": {
   "display_name": "QuantFinance",
   "language": "python",
   "name": "python3"
  },
  "language_info": {
   "codemirror_mode": {
    "name": "ipython",
    "version": 3
   },
   "file_extension": ".py",
   "mimetype": "text/x-python",
   "name": "python",
   "nbconvert_exporter": "python",
   "pygments_lexer": "ipython3",
   "version": "3.13.1"
  }
 },
 "nbformat": 4,
 "nbformat_minor": 2
}
